{
 "cells": [
  {
   "cell_type": "code",
   "execution_count": 1,
   "id": "bfff57aa",
   "metadata": {},
   "outputs": [],
   "source": [
    "# https://www.kaggle.com/datasets/khulasasndh/game-of-thrones-books?resource=download\n"
   ]
  },
  {
   "cell_type": "code",
   "execution_count": 2,
   "id": "40fc8eba",
   "metadata": {},
   "outputs": [],
   "source": [
    "import numpy as np\n",
    "import pandas as pd\n"
   ]
  },
  {
   "cell_type": "code",
   "execution_count": 3,
   "id": "90e80b9e",
   "metadata": {},
   "outputs": [
    {
     "name": "stdout",
     "output_type": "stream",
     "text": [
      "/mnt/d/padma/klizo_agent/PySpark\n"
     ]
    }
   ],
   "source": [
    "import os\n",
    "print(os.getcwd())\n"
   ]
  },
  {
   "cell_type": "code",
   "execution_count": 4,
   "id": "65e1348d",
   "metadata": {},
   "outputs": [
    {
     "name": "stdout",
     "output_type": "stream",
     "text": [
      "A Game Of Thrones \n",
      "Book One of A Song of Ice and Fire \n",
      "By George R. R. Martin \n",
      "PROLOGUE \n",
      "\"We should start back,\" Gared urged as the woods began to grow dark around them. \"The wildlings are \n",
      "dead.\" \n",
      "\"Do the dead frighten you?\" Ser Waymar Royce asked with just the hint of a smile. \n",
      "Gared did not rise to the bait. He was an old man, past fifty, and he had seen the lordlings come and go. \n",
      "\"Dead is dead,\" he said. \"We have no business with the dead.\" \n",
      "\"Are they dead?\" Royce asked softly. \"What proof \n"
     ]
    }
   ],
   "source": [
    "with open(\"001ssb.txt\", \"r\", encoding=\"utf-8\") as f:\n",
    "    text = f.read()\n",
    "\n",
    "print(text[:500])\n"
   ]
  },
  {
   "cell_type": "code",
   "execution_count": 5,
   "id": "b72e2efb",
   "metadata": {},
   "outputs": [],
   "source": [
    "import gensim\n",
    "import os\n"
   ]
  },
  {
   "cell_type": "code",
   "execution_count": 6,
   "id": "343ad150",
   "metadata": {},
   "outputs": [],
   "source": [
    "# from nltk import sent_tokenize\n",
    "# from gensim.utils import simple_preprocess\n",
    "\n",
    "# story = []\n",
    "# for filename in os.listdir('data'):\n",
    "#     f = open(os.path.join('data', filename))\n",
    "#     corpus = f.read()\n",
    "#     raw_sent = sent_tokenize(corpus)\n",
    "#     for sent in raw_sent:\n",
    "#         story.append(simple_preprocess(sent))\n"
   ]
  },
  {
   "cell_type": "code",
   "execution_count": 7,
   "id": "f40c307c",
   "metadata": {},
   "outputs": [],
   "source": [
    "# for filename in os.listdir('.'):   # current folder\n",
    "#     with open(filename, \"r\", encoding=\"utf-8\") as f:\n",
    "#         corpus = f.read()\n",
    "#         raw_sent = sent_tokenize(corpus)\n",
    "#         for sent in raw_sent:\n",
    "#             story.append(simple_preprocess(sent))\n"
   ]
  },
  {
   "cell_type": "code",
   "execution_count": 8,
   "id": "5dc46fe5",
   "metadata": {},
   "outputs": [
    {
     "name": "stderr",
     "output_type": "stream",
     "text": [
      "[nltk_data] Downloading package punkt to /home/padma/nltk_data...\n",
      "[nltk_data]   Package punkt is already up-to-date!\n"
     ]
    },
    {
     "data": {
      "text/plain": [
       "True"
      ]
     },
     "execution_count": 8,
     "metadata": {},
     "output_type": "execute_result"
    }
   ],
   "source": [
    "import nltk\n",
    "nltk.download('punkt')\n"
   ]
  },
  {
   "cell_type": "code",
   "execution_count": 9,
   "id": "005d4468",
   "metadata": {},
   "outputs": [
    {
     "ename": "NameError",
     "evalue": "name 'sent_tokenize' is not defined",
     "output_type": "error",
     "traceback": [
      "\u001b[31m---------------------------------------------------------------------------\u001b[39m",
      "\u001b[31mNameError\u001b[39m                                 Traceback (most recent call last)",
      "\u001b[36mCell\u001b[39m\u001b[36m \u001b[39m\u001b[32mIn[9]\u001b[39m\u001b[32m, line 4\u001b[39m\n\u001b[32m      2\u001b[39m \u001b[38;5;28;01mwith\u001b[39;00m \u001b[38;5;28mopen\u001b[39m(os.path.join(\u001b[33m'\u001b[39m\u001b[33m/mnt/d/padma/klizo_agent/PySpark\u001b[39m\u001b[33m'\u001b[39m, filename), \u001b[33m\"\u001b[39m\u001b[33mr\u001b[39m\u001b[33m\"\u001b[39m, encoding=\u001b[33m\"\u001b[39m\u001b[33mutf-8\u001b[39m\u001b[33m\"\u001b[39m) \u001b[38;5;28;01mas\u001b[39;00m f:\n\u001b[32m      3\u001b[39m     corpus = f.read()\n\u001b[32m----> \u001b[39m\u001b[32m4\u001b[39m     raw_sent = \u001b[43msent_tokenize\u001b[49m(corpus)\n\u001b[32m      5\u001b[39m     \u001b[38;5;28;01mfor\u001b[39;00m sent \u001b[38;5;129;01min\u001b[39;00m raw_sent:\n\u001b[32m      6\u001b[39m         story.append(simple_preprocess(sent))\n",
      "\u001b[31mNameError\u001b[39m: name 'sent_tokenize' is not defined"
     ]
    }
   ],
   "source": [
    "for filename in os.listdir('/mnt/d/padma/klizo_agent/PySpark'):\n",
    "    with open(os.path.join('/mnt/d/padma/klizo_agent/PySpark', filename), \"r\", encoding=\"utf-8\") as f:\n",
    "        corpus = f.read()\n",
    "        raw_sent = sent_tokenize(corpus)\n",
    "        for sent in raw_sent:\n",
    "            story.append(simple_preprocess(sent))\n"
   ]
  },
  {
   "cell_type": "code",
   "execution_count": null,
   "id": "d692652a",
   "metadata": {},
   "outputs": [],
   "source": [
    "story\n"
   ]
  },
  {
   "cell_type": "code",
   "execution_count": null,
   "id": "3d5b2165",
   "metadata": {},
   "outputs": [],
   "source": [
    "len(story)\n"
   ]
  },
  {
   "cell_type": "code",
   "execution_count": null,
   "id": "ed3c6070",
   "metadata": {},
   "outputs": [],
   "source": [
    "model = gensim.models.Word2Vec(\n",
    "    window=10,\n",
    "    min_count=2,\n",
    "    workers=4\n",
    ")\n"
   ]
  },
  {
   "cell_type": "code",
   "execution_count": null,
   "id": "389df7ff",
   "metadata": {},
   "outputs": [],
   "source": [
    "model.build_vocab(story)\n"
   ]
  },
  {
   "cell_type": "code",
   "execution_count": null,
   "id": "245e8abb",
   "metadata": {},
   "outputs": [],
   "source": [
    "model.train(story, total_examples=model.corpus_count, epochs=model.epochs)\n"
   ]
  },
  {
   "cell_type": "code",
   "execution_count": null,
   "id": "384c1bff",
   "metadata": {},
   "outputs": [],
   "source": [
    "model.wv.most_similar('daenerys')\n"
   ]
  },
  {
   "cell_type": "code",
   "execution_count": null,
   "id": "d661fbf8",
   "metadata": {},
   "outputs": [],
   "source": [
    "model.wv.doesnt_match(['jon', 'rikon', 'robb', 'arya', 'sansa', 'bran'])\n"
   ]
  },
  {
   "cell_type": "code",
   "execution_count": null,
   "id": "e4b47f64",
   "metadata": {},
   "outputs": [],
   "source": [
    "model.wv.doesnt_match(['cersei', 'jaime', 'bronn', 'tyrion'])\n"
   ]
  },
  {
   "cell_type": "code",
   "execution_count": null,
   "id": "e824457a",
   "metadata": {},
   "outputs": [],
   "source": [
    "model.wv['jon']\n"
   ]
  },
  {
   "cell_type": "code",
   "execution_count": null,
   "id": "c93fa34a",
   "metadata": {},
   "outputs": [],
   "source": [
    "model.wv['jon'].shape\n"
   ]
  },
  {
   "cell_type": "code",
   "execution_count": null,
   "id": "9955689e",
   "metadata": {},
   "outputs": [],
   "source": [
    "model.wv.similarity('arya', 'sansa')\n"
   ]
  },
  {
   "cell_type": "code",
   "execution_count": null,
   "id": "4d10ca60",
   "metadata": {},
   "outputs": [],
   "source": [
    "model.wv.similarity('cersei', 'sansa')\n"
   ]
  },
  {
   "cell_type": "code",
   "execution_count": null,
   "id": "3d5955e6",
   "metadata": {},
   "outputs": [],
   "source": [
    "model.wv.similarity('tywin', 'sansa')\n"
   ]
  },
  {
   "cell_type": "code",
   "execution_count": null,
   "id": "4e9cd666",
   "metadata": {},
   "outputs": [],
   "source": [
    "model.wv.get_normed_vectors()\n"
   ]
  },
  {
   "cell_type": "code",
   "execution_count": null,
   "id": "327c74c1",
   "metadata": {},
   "outputs": [],
   "source": [
    "model.wv.get_normed_vectors().shape\n"
   ]
  },
  {
   "cell_type": "code",
   "execution_count": null,
   "id": "ccbb1a25",
   "metadata": {},
   "outputs": [],
   "source": [
    "y = model.wv.index_to_key\n",
    "y\n"
   ]
  },
  {
   "cell_type": "code",
   "execution_count": null,
   "id": "579323db",
   "metadata": {},
   "outputs": [],
   "source": [
    "from sklearn.decomposition import PCA\n"
   ]
  },
  {
   "cell_type": "code",
   "execution_count": null,
   "id": "b1fe10f2",
   "metadata": {},
   "outputs": [],
   "source": [
    "pca = PCA(n_components=3)\n"
   ]
  },
  {
   "cell_type": "code",
   "execution_count": null,
   "id": "83a40681",
   "metadata": {},
   "outputs": [],
   "source": [
    "X = pca.fit_transform(model.wv.get_normed_vectors())\n",
    "X[:5]\n"
   ]
  },
  {
   "cell_type": "code",
   "execution_count": null,
   "id": "4e4a5063",
   "metadata": {},
   "outputs": [],
   "source": [
    "X.shape\n"
   ]
  },
  {
   "cell_type": "code",
   "execution_count": null,
   "id": "e8cd0643",
   "metadata": {},
   "outputs": [],
   "source": [
    "import plotly.express as px\n",
    "fig = px.scatter_3d(X[:500], x=0, y=1, z=2, color=y[:500])\n",
    "fig.show()\n"
   ]
  },
  {
   "cell_type": "code",
   "execution_count": null,
   "id": "7188f621",
   "metadata": {},
   "outputs": [],
   "source": [
    "import plotly.express as px\n",
    "fig = px.scatter_3d(X[200:300], x=0, y=1, z=2, color=y[200:300])\n",
    "fig.show()\n"
   ]
  }
 ],
 "metadata": {
  "kernelspec": {
   "display_name": "Python 3",
   "language": "python",
   "name": "python3"
  },
  "language_info": {
   "codemirror_mode": {
    "name": "ipython",
    "version": 3
   },
   "file_extension": ".py",
   "mimetype": "text/x-python",
   "name": "python",
   "nbconvert_exporter": "python",
   "pygments_lexer": "ipython3",
   "version": "3.12.11"
  }
 },
 "nbformat": 4,
 "nbformat_minor": 5
}
