{
 "cells": [
  {
   "cell_type": "code",
   "execution_count": 1,
   "id": "944d04a3",
   "metadata": {},
   "outputs": [],
   "source": [
    "import pyspark\n"
   ]
  },
  {
   "cell_type": "code",
   "execution_count": 2,
   "id": "e4b9a68c",
   "metadata": {},
   "outputs": [
    {
     "name": "stderr",
     "output_type": "stream",
     "text": [
      "your 131072x1 screen size is bogus. expect trouble\n",
      "25/08/18 14:07:12 WARN Utils: Your hostname, KLZPC0015 resolves to a loopback address: 127.0.1.1; using 172.25.17.96 instead (on interface eth0)\n",
      "25/08/18 14:07:12 WARN Utils: Set SPARK_LOCAL_IP if you need to bind to another address\n",
      "Setting default log level to \"WARN\".\n",
      "To adjust logging level use sc.setLogLevel(newLevel). For SparkR, use setLogLevel(newLevel).\n",
      "25/08/18 14:07:15 WARN NativeCodeLoader: Unable to load native-hadoop library for your platform... using builtin-java classes where applicable\n"
     ]
    }
   ],
   "source": [
    "from pyspark.sql import SparkSession, Row\n",
    "\n",
    "spark = SparkSession.builder.appName(\"RowExample\").getOrCreate()\n"
   ]
  },
  {
   "cell_type": "markdown",
   "id": "5a705af7",
   "metadata": {},
   "source": [
    "### Creating DataFrame from a List of Tuples (Static Values)"
   ]
  },
  {
   "cell_type": "code",
   "execution_count": 3,
   "id": "f1127c07",
   "metadata": {},
   "outputs": [],
   "source": [
    "data = [\n",
    "    Row(name=\"Souvik\", age=26, id=1),\n",
    "    Row(name=\"Soukajya\", age=26, id=2),\n",
    "    Row(age=27, id=3, name=\"Akash\")\n",
    "]\n"
   ]
  },
  {
   "cell_type": "code",
   "execution_count": 4,
   "id": "36119c6b",
   "metadata": {},
   "outputs": [
    {
     "name": "stderr",
     "output_type": "stream",
     "text": [
      "                                                                                \r"
     ]
    },
    {
     "name": "stdout",
     "output_type": "stream",
     "text": [
      "+--------+---+----+\n",
      "|    name|age|  id|\n",
      "+--------+---+----+\n",
      "|  Souvik| 26|   1|\n",
      "|Soukajya| 26|   2|\n",
      "|      27|  3|NULL|\n",
      "+--------+---+----+\n",
      "\n"
     ]
    }
   ],
   "source": [
    "df = spark.createDataFrame(data)\n",
    "df.show()\n"
   ]
  },
  {
   "cell_type": "markdown",
   "id": "c633c70f",
   "metadata": {},
   "source": [
    "#### To fix this column order issue - "
   ]
  },
  {
   "cell_type": "markdown",
   "id": "70e54355",
   "metadata": {},
   "source": [
    "##### Option 1: Use Consistant Row defination"
   ]
  },
  {
   "cell_type": "code",
   "execution_count": 5,
   "id": "47ed69d9",
   "metadata": {},
   "outputs": [
    {
     "name": "stderr",
     "output_type": "stream",
     "text": [
      "                                                                                \r"
     ]
    },
    {
     "name": "stdout",
     "output_type": "stream",
     "text": [
      "+--------+---+---+\n",
      "|    name|age| id|\n",
      "+--------+---+---+\n",
      "|  Souvik| 26|  1|\n",
      "|Soukajya| 26|  2|\n",
      "|   Akash| 27|  3|\n",
      "+--------+---+---+\n",
      "\n"
     ]
    },
    {
     "name": "stderr",
     "output_type": "stream",
     "text": [
      "                                                                                \r"
     ]
    }
   ],
   "source": [
    "data = [\n",
    "    Row(name=\"Souvik\", age=26, id=1),\n",
    "    Row(name=\"Soukajya\", age=26, id=2),\n",
    "    Row(name=\"Akash\", age=27, id=3)   # fixed order\n",
    "]\n",
    "\n",
    "df = spark.createDataFrame(data)\n",
    "df.show()\n"
   ]
  },
  {
   "cell_type": "markdown",
   "id": "d33b47af",
   "metadata": {},
   "source": [
    "##### Option 2: Define a schema explicitly"
   ]
  },
  {
   "cell_type": "code",
   "execution_count": 6,
   "id": "0acb58ed",
   "metadata": {},
   "outputs": [
    {
     "name": "stderr",
     "output_type": "stream",
     "text": [
      "[Stage 5:>                                                          (0 + 3) / 3]\r"
     ]
    },
    {
     "name": "stdout",
     "output_type": "stream",
     "text": [
      "+--------+---+---+\n",
      "|    name|age| id|\n",
      "+--------+---+---+\n",
      "|  Souvik| 26|  1|\n",
      "|Soukajya| 26|  2|\n",
      "|   Akash| 27|  3|\n",
      "+--------+---+---+\n",
      "\n"
     ]
    },
    {
     "name": "stderr",
     "output_type": "stream",
     "text": [
      "                                                                                \r"
     ]
    }
   ],
   "source": [
    "from pyspark.sql.types import StructType, StructField, StringType, IntegerType\n",
    "\n",
    "schema = StructType([\n",
    "    StructField(\"name\", StringType(), True),\n",
    "    StructField(\"age\", IntegerType(), True),\n",
    "    StructField(\"id\", IntegerType(), True),\n",
    "])\n",
    "\n",
    "\n",
    "df = spark.createDataFrame(data, schema=schema)\n",
    "df.show()\n"
   ]
  },
  {
   "cell_type": "code",
   "execution_count": 7,
   "id": "2b0214eb",
   "metadata": {},
   "outputs": [
    {
     "name": "stdout",
     "output_type": "stream",
     "text": [
      "root\n",
      " |-- name: string (nullable = true)\n",
      " |-- age: integer (nullable = true)\n",
      " |-- id: integer (nullable = true)\n",
      "\n"
     ]
    }
   ],
   "source": [
    "df.printSchema()\n"
   ]
  },
  {
   "cell_type": "code",
   "execution_count": null,
   "id": "f571613f",
   "metadata": {},
   "outputs": [],
   "source": []
  },
  {
   "cell_type": "markdown",
   "id": "8f9efd06",
   "metadata": {},
   "source": [
    "### Creating a DataFrame using spark.createDataFrame() with a List of Dict"
   ]
  },
  {
   "cell_type": "code",
   "execution_count": 8,
   "id": "45108751",
   "metadata": {},
   "outputs": [
    {
     "name": "stderr",
     "output_type": "stream",
     "text": [
      "[Stage 7:>                                                          (0 + 3) / 3]\r"
     ]
    },
    {
     "name": "stdout",
     "output_type": "stream",
     "text": [
      "+---+---+--------+\n",
      "|age| id|    name|\n",
      "+---+---+--------+\n",
      "| 26|  1|  Souvik|\n",
      "| 26|  2|Soukajya|\n",
      "| 27|  3|   Akash|\n",
      "+---+---+--------+\n",
      "\n"
     ]
    },
    {
     "name": "stderr",
     "output_type": "stream",
     "text": [
      "                                                                                \r"
     ]
    }
   ],
   "source": [
    "data = [\n",
    "    {\"id\": 1, \"name\": \"Souvik\", \"age\": 26},\n",
    "    {\"id\": 2, \"name\": \"Soukajya\", \"age\": 26},\n",
    "    {\"id\": 3, \"name\": \"Akash\", \"age\": 27}\n",
    "]\n",
    "\n",
    "df = spark.createDataFrame(data)\n",
    "df.show()\n"
   ]
  },
  {
   "cell_type": "markdown",
   "id": "e5fcfbbc",
   "metadata": {},
   "source": [
    "#### Add Column names to DataFrame and Check Schema"
   ]
  },
  {
   "cell_type": "code",
   "execution_count": 9,
   "id": "de4f071a",
   "metadata": {},
   "outputs": [
    {
     "name": "stderr",
     "output_type": "stream",
     "text": [
      "[Stage 9:>                                                          (0 + 3) / 3]\r"
     ]
    },
    {
     "name": "stdout",
     "output_type": "stream",
     "text": [
      "+---+--------+---+\n",
      "| _1|      _2| _3|\n",
      "+---+--------+---+\n",
      "|  1|Dipankar| 27|\n",
      "|  2| Shankha| 26|\n",
      "|  3|   Tuhin| 27|\n",
      "+---+--------+---+\n",
      "\n",
      "root\n",
      " |-- _1: long (nullable = true)\n",
      " |-- _2: string (nullable = true)\n",
      " |-- _3: long (nullable = true)\n",
      "\n"
     ]
    },
    {
     "name": "stderr",
     "output_type": "stream",
     "text": [
      "                                                                                \r"
     ]
    }
   ],
   "source": [
    "data = [\n",
    "    (1, \"Dipankar\", 27),\n",
    "    (2, \"Shankha\", 26),\n",
    "    (3, \"Tuhin\", 27)\n",
    "]\n",
    "\n",
    "df = spark.createDataFrame(data)\n",
    "df.show()\n",
    "\n",
    "df.printSchema()\n"
   ]
  },
  {
   "cell_type": "code",
   "execution_count": 10,
   "id": "7e98b212",
   "metadata": {},
   "outputs": [
    {
     "name": "stderr",
     "output_type": "stream",
     "text": [
      "[Stage 11:>                                                         (0 + 3) / 3]\r"
     ]
    },
    {
     "name": "stdout",
     "output_type": "stream",
     "text": [
      "+---+--------+---+\n",
      "| id|    name|age|\n",
      "+---+--------+---+\n",
      "|  1|Dipankar| 27|\n",
      "|  2| Shankha| 26|\n",
      "|  3|   Tuhin| 27|\n",
      "+---+--------+---+\n",
      "\n"
     ]
    },
    {
     "name": "stderr",
     "output_type": "stream",
     "text": [
      "                                                                                \r"
     ]
    }
   ],
   "source": [
    "df = df.toDF(\"id\", \"name\", \"age\")\n",
    "df.show()\n"
   ]
  },
  {
   "cell_type": "code",
   "execution_count": 11,
   "id": "f915cb5c",
   "metadata": {},
   "outputs": [
    {
     "name": "stderr",
     "output_type": "stream",
     "text": [
      "[Stage 13:>                                                         (0 + 3) / 3]\r"
     ]
    },
    {
     "name": "stdout",
     "output_type": "stream",
     "text": [
      "+---+--------+---+\n",
      "| id|    name|age|\n",
      "+---+--------+---+\n",
      "|  1|Dipankar| 27|\n",
      "|  2| Shankha| 26|\n",
      "|  3|   Tuhin| 27|\n",
      "+---+--------+---+\n",
      "\n"
     ]
    },
    {
     "name": "stderr",
     "output_type": "stream",
     "text": [
      "                                                                                \r"
     ]
    }
   ],
   "source": [
    "data = [\n",
    "    (1, \"Dipankar\", 27),\n",
    "    (2, \"Shankha\", 26),\n",
    "    (3, \"Tuhin\", 27)\n",
    "]\n",
    "\n",
    "df = spark.createDataFrame(data).toDF(\"id\", \"name\", \"age\")\n",
    "df.show()\n"
   ]
  },
  {
   "cell_type": "code",
   "execution_count": 12,
   "id": "7a749901",
   "metadata": {},
   "outputs": [
    {
     "name": "stdout",
     "output_type": "stream",
     "text": [
      "root\n",
      " |-- id: long (nullable = true)\n",
      " |-- name: string (nullable = true)\n",
      " |-- age: long (nullable = true)\n",
      "\n"
     ]
    }
   ],
   "source": [
    "df.printSchema()\n"
   ]
  },
  {
   "cell_type": "code",
   "execution_count": null,
   "id": "dea5c7a2",
   "metadata": {},
   "outputs": [],
   "source": []
  },
  {
   "cell_type": "markdown",
   "id": "1cb5a228",
   "metadata": {},
   "source": [
    "#### Use createDataFrame() with Schema in PySpark"
   ]
  },
  {
   "cell_type": "code",
   "execution_count": 13,
   "id": "1ea765f0",
   "metadata": {},
   "outputs": [
    {
     "name": "stdout",
     "output_type": "stream",
     "text": [
      "root\n",
      " |-- id: long (nullable = true)\n",
      " |-- name: string (nullable = true)\n",
      " |-- age: long (nullable = true)\n",
      "\n"
     ]
    },
    {
     "name": "stderr",
     "output_type": "stream",
     "text": [
      "[Stage 15:>                                                         (0 + 3) / 3]\r"
     ]
    },
    {
     "name": "stdout",
     "output_type": "stream",
     "text": [
      "+---+--------+----+\n",
      "| id|    name| age|\n",
      "+---+--------+----+\n",
      "|  1|Dipankar|  27|\n",
      "|  2|    NULL|  26|\n",
      "|  3|   Tuhin|NULL|\n",
      "+---+--------+----+\n",
      "\n"
     ]
    },
    {
     "name": "stderr",
     "output_type": "stream",
     "text": [
      "                                                                                \r"
     ]
    }
   ],
   "source": [
    "from pyspark.sql.types import StructType, StructField, IntegerType, StringType\n",
    "\n",
    "myschema = StructType(\n",
    "    [\n",
    "        StructField(\"id\", IntegerType(), False),\n",
    "        StructField(\"name\", StringType(), True),\n",
    "        StructField(\"age\", IntegerType(), True)\n",
    "    ]\n",
    ")\n",
    "\n",
    "df.printSchema()\n",
    "\n",
    "data = [\n",
    "    (1, \"Dipankar\", 27),\n",
    "    (2, None, 26),\n",
    "    (3, \"Tuhin\", None)\n",
    "]\n",
    "\n",
    "df = spark.createDataFrame(data, schema=myschema)\n",
    "df.show()\n"
   ]
  },
  {
   "cell_type": "markdown",
   "id": "c212ff2d",
   "metadata": {},
   "source": [
    "#### show() func in PySpark"
   ]
  },
  {
   "cell_type": "code",
   "execution_count": 14,
   "id": "0470fb0a",
   "metadata": {},
   "outputs": [
    {
     "name": "stderr",
     "output_type": "stream",
     "text": [
      "[Stage 17:>                                                         (0 + 3) / 3]\r"
     ]
    },
    {
     "name": "stdout",
     "output_type": "stream",
     "text": [
      "+---+--------------------+---+\n",
      "| id|                name|age|\n",
      "+---+--------------------+---+\n",
      "|  1|            Dipankar| 27|\n",
      "|  2|             Shankha| 26|\n",
      "|  3|Tuhin, one of my ...| 27|\n",
      "+---+--------------------+---+\n",
      "\n"
     ]
    },
    {
     "name": "stderr",
     "output_type": "stream",
     "text": [
      "                                                                                \r"
     ]
    }
   ],
   "source": [
    "data = [\n",
    "    (1, \"Dipankar\", 27),\n",
    "    (2, \"Shankha\", 26),\n",
    "    (3, \"Tuhin, one of my highter secondary school friend, who is a cousin brother of my another secondary school friend\", 27)\n",
    "]\n",
    "\n",
    "df = spark.createDataFrame(data).toDF(\"id\", \"name\", \"age\")\n",
    "df.show()\n"
   ]
  },
  {
   "cell_type": "code",
   "execution_count": 15,
   "id": "bb44f6d5",
   "metadata": {},
   "outputs": [
    {
     "name": "stderr",
     "output_type": "stream",
     "text": [
      "                                                                                \r"
     ]
    },
    {
     "name": "stdout",
     "output_type": "stream",
     "text": [
      "+---+--------+---+\n",
      "| id|    name|age|\n",
      "+---+--------+---+\n",
      "|  1|Dipankar| 27|\n",
      "|  2| Shankha| 26|\n",
      "+---+--------+---+\n",
      "only showing top 2 rows\n",
      "\n"
     ]
    }
   ],
   "source": [
    "df.show(2)\n"
   ]
  },
  {
   "cell_type": "code",
   "execution_count": 16,
   "id": "965d4187",
   "metadata": {},
   "outputs": [
    {
     "name": "stderr",
     "output_type": "stream",
     "text": [
      "[Stage 21:======================================>                   (2 + 1) / 3]\r"
     ]
    },
    {
     "name": "stdout",
     "output_type": "stream",
     "text": [
      "+---+--------------------+---+\n",
      "| id|                name|age|\n",
      "+---+--------------------+---+\n",
      "|  1|            Dipankar| 27|\n",
      "|  2|             Shankha| 26|\n",
      "|  3|Tuhin, one of my ...| 27|\n",
      "+---+--------------------+---+\n",
      "\n"
     ]
    },
    {
     "name": "stderr",
     "output_type": "stream",
     "text": [
      "                                                                                \r"
     ]
    }
   ],
   "source": [
    "df.show(truncate=True)\n"
   ]
  },
  {
   "cell_type": "code",
   "execution_count": 17,
   "id": "f9b0f301",
   "metadata": {},
   "outputs": [
    {
     "name": "stderr",
     "output_type": "stream",
     "text": [
      "[Stage 23:>                                                         (0 + 3) / 3]\r"
     ]
    },
    {
     "name": "stdout",
     "output_type": "stream",
     "text": [
      "+---+---------------------------------------------------------------------------------------------------------------+---+\n",
      "|id |name                                                                                                           |age|\n",
      "+---+---------------------------------------------------------------------------------------------------------------+---+\n",
      "|1  |Dipankar                                                                                                       |27 |\n",
      "|2  |Shankha                                                                                                        |26 |\n",
      "|3  |Tuhin, one of my highter secondary school friend, who is a cousin brother of my another secondary school friend|27 |\n",
      "+---+---------------------------------------------------------------------------------------------------------------+---+\n",
      "\n"
     ]
    },
    {
     "name": "stderr",
     "output_type": "stream",
     "text": [
      "                                                                                \r"
     ]
    }
   ],
   "source": [
    "df.show(truncate=False)\n"
   ]
  },
  {
   "cell_type": "code",
   "execution_count": 18,
   "id": "a48e56a7",
   "metadata": {},
   "outputs": [
    {
     "name": "stderr",
     "output_type": "stream",
     "text": [
      "                                                                                \r"
     ]
    },
    {
     "name": "stdout",
     "output_type": "stream",
     "text": [
      "-RECORD 0--------------------\n",
      " id   | 1                    \n",
      " name | Dipankar             \n",
      " age  | 27                   \n",
      "-RECORD 1--------------------\n",
      " id   | 2                    \n",
      " name | Shankha              \n",
      " age  | 26                   \n",
      "-RECORD 2--------------------\n",
      " id   | 3                    \n",
      " name | Tuhin, one of my ... \n",
      " age  | 27                   \n",
      "\n"
     ]
    },
    {
     "name": "stderr",
     "output_type": "stream",
     "text": [
      "                                                                                \r"
     ]
    }
   ],
   "source": [
    "df.show(vertical=True)\n"
   ]
  },
  {
   "cell_type": "code",
   "execution_count": 19,
   "id": "ce0447e6",
   "metadata": {},
   "outputs": [
    {
     "name": "stderr",
     "output_type": "stream",
     "text": [
      "                                                                                \r"
     ]
    },
    {
     "name": "stdout",
     "output_type": "stream",
     "text": [
      "+---+----------+---+\n",
      "| id|      name|age|\n",
      "+---+----------+---+\n",
      "|  1|  Dipankar| 27|\n",
      "|  2|   Shankha| 26|\n",
      "|  3|Tuhin, ...| 27|\n",
      "+---+----------+---+\n",
      "\n"
     ]
    }
   ],
   "source": [
    "df.show(truncate=10)\n"
   ]
  },
  {
   "cell_type": "code",
   "execution_count": null,
   "id": "9a3bb5f0",
   "metadata": {},
   "outputs": [],
   "source": []
  },
  {
   "cell_type": "markdown",
   "id": "227f6b98",
   "metadata": {},
   "source": [
    "#### PySpark select() example"
   ]
  },
  {
   "cell_type": "code",
   "execution_count": 20,
   "id": "9127f360",
   "metadata": {},
   "outputs": [],
   "source": [
    "from pyspark.sql.functions import col, expr, when, lit\n"
   ]
  },
  {
   "cell_type": "code",
   "execution_count": 22,
   "id": "6f99b8b8",
   "metadata": {},
   "outputs": [],
   "source": [
    "data = [\n",
    "    (1, \"Manta\", 75000, \"IT\", 24),\n",
    "    (2, \"Dipankar\", 30000, \"Post Master\", 27),\n",
    "    (3, \"Souvik\", 60000, \"Army Officer\", 27),\n",
    "    (4, \"Soukarjya\", 45000, \"BDO\", 26),\n",
    "    (5, \"Arvind\", 35000, \"Business Data Analyst\", 28)\n",
    "]\n"
   ]
  },
  {
   "cell_type": "code",
   "execution_count": 24,
   "id": "8173cf3f",
   "metadata": {},
   "outputs": [
    {
     "name": "stderr",
     "output_type": "stream",
     "text": [
      "[Stage 29:===================>                                      (1 + 2) / 3]\r"
     ]
    },
    {
     "name": "stdout",
     "output_type": "stream",
     "text": [
      "+---+---------+------+--------------------+---+\n",
      "| id|     name|salary|          department|age|\n",
      "+---+---------+------+--------------------+---+\n",
      "|  1|    Manta| 75000|                  IT| 24|\n",
      "|  2| Dipankar| 30000|         Post Master| 27|\n",
      "|  3|   Souvik| 60000|        Army Officer| 27|\n",
      "|  4|Soukarjya| 45000|                 BDO| 26|\n",
      "|  5|   Arvind| 35000|Business Data Ana...| 28|\n",
      "+---+---------+------+--------------------+---+\n",
      "\n"
     ]
    },
    {
     "name": "stderr",
     "output_type": "stream",
     "text": [
      "                                                                                \r"
     ]
    }
   ],
   "source": [
    "df = spark.createDataFrame(data, [\"id\", \"name\", \"salary\", \"department\", \"age\"])\n",
    "df.show()\n"
   ]
  },
  {
   "cell_type": "code",
   "execution_count": 25,
   "id": "e358ea70",
   "metadata": {},
   "outputs": [
    {
     "name": "stderr",
     "output_type": "stream",
     "text": [
      "[Stage 31:>                                                         (0 + 3) / 3]\r"
     ]
    },
    {
     "name": "stdout",
     "output_type": "stream",
     "text": [
      "+---------+------+\n",
      "|     name|salary|\n",
      "+---------+------+\n",
      "|    Manta| 75000|\n",
      "| Dipankar| 30000|\n",
      "|   Souvik| 60000|\n",
      "|Soukarjya| 45000|\n",
      "|   Arvind| 35000|\n",
      "+---------+------+\n",
      "\n"
     ]
    },
    {
     "name": "stderr",
     "output_type": "stream",
     "text": [
      "                                                                                \r"
     ]
    }
   ],
   "source": [
    "df.select(\"name\", \"salary\").show()\n"
   ]
  },
  {
   "cell_type": "code",
   "execution_count": 26,
   "id": "0c31d3c1",
   "metadata": {},
   "outputs": [
    {
     "name": "stderr",
     "output_type": "stream",
     "text": [
      "[Stage 33:>                                                         (0 + 3) / 3]\r"
     ]
    },
    {
     "name": "stdout",
     "output_type": "stream",
     "text": [
      "+---------+--------------------+\n",
      "|     name|          department|\n",
      "+---------+--------------------+\n",
      "|    Manta|                  IT|\n",
      "| Dipankar|         Post Master|\n",
      "|   Souvik|        Army Officer|\n",
      "|Soukarjya|                 BDO|\n",
      "|   Arvind|Business Data Ana...|\n",
      "+---------+--------------------+\n",
      "\n"
     ]
    },
    {
     "name": "stderr",
     "output_type": "stream",
     "text": [
      "                                                                                \r"
     ]
    }
   ],
   "source": [
    "df.select(col(\"name\"), col(\"department\")).show()\n"
   ]
  },
  {
   "cell_type": "code",
   "execution_count": 27,
   "id": "e5d18f73",
   "metadata": {},
   "outputs": [
    {
     "name": "stderr",
     "output_type": "stream",
     "text": [
      "[Stage 35:===================>                                      (1 + 2) / 3]\r"
     ]
    },
    {
     "name": "stdout",
     "output_type": "stream",
     "text": [
      "+-------------+---------------+\n",
      "|Employee_Name|Employee_Salary|\n",
      "+-------------+---------------+\n",
      "|        Manta|          75000|\n",
      "|     Dipankar|          30000|\n",
      "|       Souvik|          60000|\n",
      "|    Soukarjya|          45000|\n",
      "|       Arvind|          35000|\n",
      "+-------------+---------------+\n",
      "\n"
     ]
    },
    {
     "name": "stderr",
     "output_type": "stream",
     "text": [
      "                                                                                \r"
     ]
    }
   ],
   "source": [
    "df.select(col(\"name\").alias(\"Employee_Name\"), col(\"salary\").alias(\"Employee_Salary\")).show()\n"
   ]
  },
  {
   "cell_type": "code",
   "execution_count": 28,
   "id": "14cb216b",
   "metadata": {},
   "outputs": [
    {
     "name": "stderr",
     "output_type": "stream",
     "text": [
      "[Stage 37:>                                                         (0 + 3) / 3]\r"
     ]
    },
    {
     "name": "stdout",
     "output_type": "stream",
     "text": [
      "+---------+----------------+\n",
      "|     name|increased_salary|\n",
      "+---------+----------------+\n",
      "|    Manta|        82500.00|\n",
      "| Dipankar|        33000.00|\n",
      "|   Souvik|        66000.00|\n",
      "|Soukarjya|        49500.00|\n",
      "|   Arvind|        38500.00|\n",
      "+---------+----------------+\n",
      "\n"
     ]
    },
    {
     "name": "stderr",
     "output_type": "stream",
     "text": [
      "                                                                                \r"
     ]
    }
   ],
   "source": [
    "df.select(expr(\"name\"), expr(\"salary * 1.10 as increased_salary\")).show()\n"
   ]
  },
  {
   "cell_type": "code",
   "execution_count": 29,
   "id": "c86da5b4",
   "metadata": {},
   "outputs": [
    {
     "name": "stderr",
     "output_type": "stream",
     "text": [
      "[Stage 39:===================>                                      (1 + 2) / 3]\r"
     ]
    },
    {
     "name": "stdout",
     "output_type": "stream",
     "text": [
      "+---------+------+---------------+\n",
      "|     name|salary|Salary_Category|\n",
      "+---------+------+---------------+\n",
      "|    Manta| 75000|           high|\n",
      "| Dipankar| 30000|            low|\n",
      "|   Souvik| 60000|           high|\n",
      "|Soukarjya| 45000|            low|\n",
      "|   Arvind| 35000|            low|\n",
      "+---------+------+---------------+\n",
      "\n"
     ]
    },
    {
     "name": "stderr",
     "output_type": "stream",
     "text": [
      "                                                                                \r"
     ]
    }
   ],
   "source": [
    "df.select(\"name\", \"salary\", when(col(\"salary\") > 50000, \"high\").otherwise(\"low\").alias(\"Salary_Category\")).show()\n"
   ]
  },
  {
   "cell_type": "code",
   "execution_count": 31,
   "id": "5f765a72",
   "metadata": {},
   "outputs": [
    {
     "name": "stderr",
     "output_type": "stream",
     "text": [
      "[Stage 41:===================>                                      (1 + 2) / 3]\r"
     ]
    },
    {
     "name": "stdout",
     "output_type": "stream",
     "text": [
      "+---------+-------------+\n",
      "|     name|double_salary|\n",
      "+---------+-------------+\n",
      "|    Manta|       150000|\n",
      "| Dipankar|        60000|\n",
      "|   Souvik|       120000|\n",
      "|Soukarjya|        90000|\n",
      "|   Arvind|        70000|\n",
      "+---------+-------------+\n",
      "\n"
     ]
    },
    {
     "name": "stderr",
     "output_type": "stream",
     "text": [
      "                                                                                \r"
     ]
    }
   ],
   "source": [
    "df.selectExpr(\"name\", \"salary * 2 as double_salary\").show()\n"
   ]
  },
  {
   "cell_type": "code",
   "execution_count": 32,
   "id": "24af8cda",
   "metadata": {},
   "outputs": [
    {
     "name": "stderr",
     "output_type": "stream",
     "text": [
      "[Stage 43:===================>                                      (1 + 2) / 3]\r"
     ]
    },
    {
     "name": "stdout",
     "output_type": "stream",
     "text": [
      "+---------+--------------------+------+\n",
      "|     name|          department|status|\n",
      "+---------+--------------------+------+\n",
      "|    Manta|                  IT|Active|\n",
      "| Dipankar|         Post Master|Active|\n",
      "|   Souvik|        Army Officer|Active|\n",
      "|Soukarjya|                 BDO|Active|\n",
      "|   Arvind|Business Data Ana...|Active|\n",
      "+---------+--------------------+------+\n",
      "\n"
     ]
    },
    {
     "name": "stderr",
     "output_type": "stream",
     "text": [
      "                                                                                \r"
     ]
    }
   ],
   "source": [
    "df.select(\"name\", \"department\", lit(\"Active\").alias(\"status\")).show()\n"
   ]
  },
  {
   "cell_type": "code",
   "execution_count": 33,
   "id": "9e1781aa",
   "metadata": {},
   "outputs": [
    {
     "name": "stderr",
     "output_type": "stream",
     "text": [
      "                                                                                \r"
     ]
    },
    {
     "name": "stdout",
     "output_type": "stream",
     "text": [
      "+---------+------+--------------------+---+\n",
      "|     name|salary|          department|age|\n",
      "+---------+------+--------------------+---+\n",
      "|    Manta| 75000|                  IT| 24|\n",
      "| Dipankar| 30000|         Post Master| 27|\n",
      "|   Souvik| 60000|        Army Officer| 27|\n",
      "|Soukarjya| 45000|                 BDO| 26|\n",
      "|   Arvind| 35000|Business Data Ana...| 28|\n",
      "+---------+------+--------------------+---+\n",
      "\n"
     ]
    }
   ],
   "source": [
    "columns_to_select = [\"name\", \"salary\", \"department\", \"age\"]\n",
    "df.select(*columns_to_select).show()\n"
   ]
  },
  {
   "cell_type": "code",
   "execution_count": 34,
   "id": "8090e486",
   "metadata": {},
   "outputs": [
    {
     "name": "stderr",
     "output_type": "stream",
     "text": [
      "[Stage 47:>                                                         (0 + 3) / 3]\r"
     ]
    },
    {
     "name": "stdout",
     "output_type": "stream",
     "text": [
      "+---+---------+------+--------------------+\n",
      "| id|     name|salary|          department|\n",
      "+---+---------+------+--------------------+\n",
      "|  1|    Manta| 75000|                  IT|\n",
      "|  2| Dipankar| 30000|         Post Master|\n",
      "|  3|   Souvik| 60000|        Army Officer|\n",
      "|  4|Soukarjya| 45000|                 BDO|\n",
      "|  5|   Arvind| 35000|Business Data Ana...|\n",
      "+---+---------+------+--------------------+\n",
      "\n"
     ]
    },
    {
     "name": "stderr",
     "output_type": "stream",
     "text": [
      "                                                                                \r"
     ]
    }
   ],
   "source": [
    "df.select([col for col in df.columns if col != \"age\"]).show()\n"
   ]
  },
  {
   "cell_type": "code",
   "execution_count": null,
   "id": "b1301eac",
   "metadata": {},
   "outputs": [],
   "source": []
  }
 ],
 "metadata": {
  "kernelspec": {
   "display_name": "Python 3",
   "language": "python",
   "name": "python3"
  },
  "language_info": {
   "codemirror_mode": {
    "name": "ipython",
    "version": 3
   },
   "file_extension": ".py",
   "mimetype": "text/x-python",
   "name": "python",
   "nbconvert_exporter": "python",
   "pygments_lexer": "ipython3",
   "version": "3.12.11"
  }
 },
 "nbformat": 4,
 "nbformat_minor": 5
}
